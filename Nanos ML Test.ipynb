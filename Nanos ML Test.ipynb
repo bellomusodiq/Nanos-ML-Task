{
 "cells": [
  {
   "cell_type": "code",
   "execution_count": 1,
   "metadata": {},
   "outputs": [],
   "source": [
    "import numpy as np\n",
    "import pandas as pd\n",
    "import matplotlib.pyplot as plt"
   ]
  },
  {
   "cell_type": "code",
   "execution_count": 24,
   "metadata": {},
   "outputs": [
    {
     "data": {
      "text/html": [
       "<div>\n",
       "<style scoped>\n",
       "    .dataframe tbody tr th:only-of-type {\n",
       "        vertical-align: middle;\n",
       "    }\n",
       "\n",
       "    .dataframe tbody tr th {\n",
       "        vertical-align: top;\n",
       "    }\n",
       "\n",
       "    .dataframe thead th {\n",
       "        text-align: right;\n",
       "    }\n",
       "</style>\n",
       "<table border=\"1\" class=\"dataframe\">\n",
       "  <thead>\n",
       "    <tr style=\"text-align: right;\">\n",
       "      <th></th>\n",
       "      <th>Ship_name</th>\n",
       "      <th>Cruise_line</th>\n",
       "      <th>Age</th>\n",
       "      <th>Tonnage</th>\n",
       "      <th>passengers</th>\n",
       "      <th>length</th>\n",
       "      <th>cabins</th>\n",
       "      <th>passenger_density</th>\n",
       "      <th>crew</th>\n",
       "    </tr>\n",
       "  </thead>\n",
       "  <tbody>\n",
       "    <tr>\n",
       "      <th>0</th>\n",
       "      <td>Journey</td>\n",
       "      <td>Azamara</td>\n",
       "      <td>6</td>\n",
       "      <td>30.277</td>\n",
       "      <td>6.94</td>\n",
       "      <td>5.94</td>\n",
       "      <td>3.55</td>\n",
       "      <td>42.64</td>\n",
       "      <td>3.55</td>\n",
       "    </tr>\n",
       "    <tr>\n",
       "      <th>1</th>\n",
       "      <td>Quest</td>\n",
       "      <td>Azamara</td>\n",
       "      <td>6</td>\n",
       "      <td>30.277</td>\n",
       "      <td>6.94</td>\n",
       "      <td>5.94</td>\n",
       "      <td>3.55</td>\n",
       "      <td>42.64</td>\n",
       "      <td>3.55</td>\n",
       "    </tr>\n",
       "    <tr>\n",
       "      <th>2</th>\n",
       "      <td>Celebration</td>\n",
       "      <td>Carnival</td>\n",
       "      <td>26</td>\n",
       "      <td>47.262</td>\n",
       "      <td>14.86</td>\n",
       "      <td>7.22</td>\n",
       "      <td>7.43</td>\n",
       "      <td>31.80</td>\n",
       "      <td>6.70</td>\n",
       "    </tr>\n",
       "    <tr>\n",
       "      <th>3</th>\n",
       "      <td>Conquest</td>\n",
       "      <td>Carnival</td>\n",
       "      <td>11</td>\n",
       "      <td>110.000</td>\n",
       "      <td>29.74</td>\n",
       "      <td>9.53</td>\n",
       "      <td>14.88</td>\n",
       "      <td>36.99</td>\n",
       "      <td>19.10</td>\n",
       "    </tr>\n",
       "    <tr>\n",
       "      <th>4</th>\n",
       "      <td>Destiny</td>\n",
       "      <td>Carnival</td>\n",
       "      <td>17</td>\n",
       "      <td>101.353</td>\n",
       "      <td>26.42</td>\n",
       "      <td>8.92</td>\n",
       "      <td>13.21</td>\n",
       "      <td>38.36</td>\n",
       "      <td>10.00</td>\n",
       "    </tr>\n",
       "  </tbody>\n",
       "</table>\n",
       "</div>"
      ],
      "text/plain": [
       "     Ship_name Cruise_line  Age  Tonnage  passengers  length  cabins  \\\n",
       "0      Journey     Azamara    6   30.277        6.94    5.94    3.55   \n",
       "1        Quest     Azamara    6   30.277        6.94    5.94    3.55   \n",
       "2  Celebration    Carnival   26   47.262       14.86    7.22    7.43   \n",
       "3     Conquest    Carnival   11  110.000       29.74    9.53   14.88   \n",
       "4      Destiny    Carnival   17  101.353       26.42    8.92   13.21   \n",
       "\n",
       "   passenger_density   crew  \n",
       "0              42.64   3.55  \n",
       "1              42.64   3.55  \n",
       "2              31.80   6.70  \n",
       "3              36.99  19.10  \n",
       "4              38.36  10.00  "
      ]
     },
     "execution_count": 24,
     "metadata": {},
     "output_type": "execute_result"
    }
   ],
   "source": [
    "dataset = pd.read_csv(\"cruise_ship_info.csv\")\n",
    "dataset.head()"
   ]
  },
  {
   "cell_type": "code",
   "execution_count": 7,
   "metadata": {},
   "outputs": [
    {
     "data": {
      "text/html": [
       "<div>\n",
       "<style scoped>\n",
       "    .dataframe tbody tr th:only-of-type {\n",
       "        vertical-align: middle;\n",
       "    }\n",
       "\n",
       "    .dataframe tbody tr th {\n",
       "        vertical-align: top;\n",
       "    }\n",
       "\n",
       "    .dataframe thead th {\n",
       "        text-align: right;\n",
       "    }\n",
       "</style>\n",
       "<table border=\"1\" class=\"dataframe\">\n",
       "  <thead>\n",
       "    <tr style=\"text-align: right;\">\n",
       "      <th></th>\n",
       "      <th>Age</th>\n",
       "      <th>Tonnage</th>\n",
       "      <th>passengers</th>\n",
       "      <th>length</th>\n",
       "      <th>cabins</th>\n",
       "      <th>passenger_density</th>\n",
       "      <th>crew</th>\n",
       "    </tr>\n",
       "  </thead>\n",
       "  <tbody>\n",
       "    <tr>\n",
       "      <th>count</th>\n",
       "      <td>158.000000</td>\n",
       "      <td>158.000000</td>\n",
       "      <td>158.000000</td>\n",
       "      <td>158.000000</td>\n",
       "      <td>158.000000</td>\n",
       "      <td>158.000000</td>\n",
       "      <td>158.000000</td>\n",
       "    </tr>\n",
       "    <tr>\n",
       "      <th>mean</th>\n",
       "      <td>15.689873</td>\n",
       "      <td>71.284671</td>\n",
       "      <td>18.457405</td>\n",
       "      <td>8.130633</td>\n",
       "      <td>8.830000</td>\n",
       "      <td>39.900949</td>\n",
       "      <td>7.794177</td>\n",
       "    </tr>\n",
       "    <tr>\n",
       "      <th>std</th>\n",
       "      <td>7.615691</td>\n",
       "      <td>37.229540</td>\n",
       "      <td>9.677095</td>\n",
       "      <td>1.793474</td>\n",
       "      <td>4.471417</td>\n",
       "      <td>8.639217</td>\n",
       "      <td>3.503487</td>\n",
       "    </tr>\n",
       "    <tr>\n",
       "      <th>min</th>\n",
       "      <td>4.000000</td>\n",
       "      <td>2.329000</td>\n",
       "      <td>0.660000</td>\n",
       "      <td>2.790000</td>\n",
       "      <td>0.330000</td>\n",
       "      <td>17.700000</td>\n",
       "      <td>0.590000</td>\n",
       "    </tr>\n",
       "    <tr>\n",
       "      <th>25%</th>\n",
       "      <td>10.000000</td>\n",
       "      <td>46.013000</td>\n",
       "      <td>12.535000</td>\n",
       "      <td>7.100000</td>\n",
       "      <td>6.132500</td>\n",
       "      <td>34.570000</td>\n",
       "      <td>5.480000</td>\n",
       "    </tr>\n",
       "    <tr>\n",
       "      <th>50%</th>\n",
       "      <td>14.000000</td>\n",
       "      <td>71.899000</td>\n",
       "      <td>19.500000</td>\n",
       "      <td>8.555000</td>\n",
       "      <td>9.570000</td>\n",
       "      <td>39.085000</td>\n",
       "      <td>8.150000</td>\n",
       "    </tr>\n",
       "    <tr>\n",
       "      <th>75%</th>\n",
       "      <td>20.000000</td>\n",
       "      <td>90.772500</td>\n",
       "      <td>24.845000</td>\n",
       "      <td>9.510000</td>\n",
       "      <td>10.885000</td>\n",
       "      <td>44.185000</td>\n",
       "      <td>9.990000</td>\n",
       "    </tr>\n",
       "    <tr>\n",
       "      <th>max</th>\n",
       "      <td>48.000000</td>\n",
       "      <td>220.000000</td>\n",
       "      <td>54.000000</td>\n",
       "      <td>11.820000</td>\n",
       "      <td>27.000000</td>\n",
       "      <td>71.430000</td>\n",
       "      <td>21.000000</td>\n",
       "    </tr>\n",
       "  </tbody>\n",
       "</table>\n",
       "</div>"
      ],
      "text/plain": [
       "              Age     Tonnage  passengers      length      cabins  \\\n",
       "count  158.000000  158.000000  158.000000  158.000000  158.000000   \n",
       "mean    15.689873   71.284671   18.457405    8.130633    8.830000   \n",
       "std      7.615691   37.229540    9.677095    1.793474    4.471417   \n",
       "min      4.000000    2.329000    0.660000    2.790000    0.330000   \n",
       "25%     10.000000   46.013000   12.535000    7.100000    6.132500   \n",
       "50%     14.000000   71.899000   19.500000    8.555000    9.570000   \n",
       "75%     20.000000   90.772500   24.845000    9.510000   10.885000   \n",
       "max     48.000000  220.000000   54.000000   11.820000   27.000000   \n",
       "\n",
       "       passenger_density        crew  \n",
       "count         158.000000  158.000000  \n",
       "mean           39.900949    7.794177  \n",
       "std             8.639217    3.503487  \n",
       "min            17.700000    0.590000  \n",
       "25%            34.570000    5.480000  \n",
       "50%            39.085000    8.150000  \n",
       "75%            44.185000    9.990000  \n",
       "max            71.430000   21.000000  "
      ]
     },
     "execution_count": 7,
     "metadata": {},
     "output_type": "execute_result"
    }
   ],
   "source": [
    "dataset.describe()"
   ]
  },
  {
   "cell_type": "markdown",
   "metadata": {},
   "source": [
    "### Observations\n",
    "1. No empty columns\n",
    "2. "
   ]
  },
  {
   "cell_type": "code",
   "execution_count": 25,
   "metadata": {},
   "outputs": [
    {
     "data": {
      "text/plain": [
       "array([ 3.55,  3.55,  6.7 , 19.1 , 10.  ,  9.2 ,  9.2 ,  9.2 ,  9.2 ,\n",
       "       11.5 , 11.6 ,  6.6 ,  9.2 ,  9.2 ,  9.3 , 11.6 , 10.3 ,  9.2 ,\n",
       "        9.3 ,  9.2 , 10.29, 10.  , 11.6 , 11.5 ,  8.58,  9.99,  9.09,\n",
       "        9.99,  9.09,  9.99,  6.7 ,  9.99,  0.6 ,  6.7 ,  4.  ,  9.2 ,\n",
       "        6.17,  6.36, 10.68, 10.68,  3.85,  9.2 ,  6.  , 10.9 ,  7.66,\n",
       "        6.36,  5.45,  9.21, 12.53,  9.  ,  9.45,  9.45,  6.  ,  8.  ,\n",
       "        5.57,  5.3 ,  8.42,  4.6 ,  6.44,  5.88,  5.88,  5.88,  5.61,\n",
       "        6.12,  5.31,  8.  ,  7.  , 13.13,  7.  ,  5.35,  9.87,  7.4 ,\n",
       "        2.97,  7.6 ,  4.7 , 11.  ,  6.14, 11.09, 11.  ,  4.38,  8.  ,\n",
       "       10.  ,  6.3 , 13.  ,  3.8 ,  9.59,  6.14,  4.  ,  4.  ,  4.  ,\n",
       "        3.5 ,  8.69,  5.2 ,  8.5 ,  9.  ,  7.94, 12.2 , 11.  ,  9.  ,\n",
       "       12.  ,  9.  , 12.38, 12.  , 11.  , 11.1 ,  9.  ,  3.73,  6.96,\n",
       "        5.2 , 12.38,  9.  , 12.  ,  9.  ,  3.73,  1.46,  4.45,  3.24,\n",
       "        2.11,  4.47, 11.85,  8.48,  6.71,  7.6 , 11.76, 13.6 ,  7.6 ,\n",
       "       13.6 ,  8.69,  7.2 , 13.6 ,  8.22, 11.85,  8.22, 11.85, 21.  ,\n",
       "        8.68,  7.65,  8.58,  8.08,  7.2 ,  6.6 , 11.76,  1.6 ,  1.6 ,\n",
       "        1.6 ,  2.1 ,  2.95,  2.87,  1.97,  0.59,  4.7 ,  6.8 ,  7.5 ,\n",
       "        0.59, 12.  ,  0.88,  0.88,  1.8 ])"
      ]
     },
     "execution_count": 25,
     "metadata": {},
     "output_type": "execute_result"
    }
   ],
   "source": [
    "y = dataset.pop(\"crew\").values\n",
    "y"
   ]
  },
  {
   "cell_type": "code",
   "execution_count": 26,
   "metadata": {},
   "outputs": [],
   "source": [
    "X = dataset.drop(columns=[\"Ship_name\", \"Cruise_line\"]).values"
   ]
  },
  {
   "cell_type": "code",
   "execution_count": 27,
   "metadata": {},
   "outputs": [
    {
     "data": {
      "text/plain": [
       "array([[  6.   ,  30.277,   6.94 ,   5.94 ,   3.55 ,  42.64 ],\n",
       "       [  6.   ,  30.277,   6.94 ,   5.94 ,   3.55 ,  42.64 ],\n",
       "       [ 26.   ,  47.262,  14.86 ,   7.22 ,   7.43 ,  31.8  ],\n",
       "       [ 11.   , 110.   ,  29.74 ,   9.53 ,  14.88 ,  36.99 ],\n",
       "       [ 17.   , 101.353,  26.42 ,   8.92 ,  13.21 ,  38.36 ],\n",
       "       [ 22.   ,  70.367,  20.52 ,   8.55 ,  10.2  ,  34.29 ],\n",
       "       [ 15.   ,  70.367,  20.52 ,   8.55 ,  10.2  ,  34.29 ],\n",
       "       [ 23.   ,  70.367,  20.56 ,   8.55 ,  10.22 ,  34.23 ],\n",
       "       [ 19.   ,  70.367,  20.52 ,   8.55 ,  10.2  ,  34.29 ],\n",
       "       [  6.   , 110.239,  37.   ,   9.51 ,  14.87 ,  29.79 ],\n",
       "       [ 10.   , 110.   ,  29.74 ,   9.51 ,  14.87 ,  36.99 ],\n",
       "       [ 28.   ,  46.052,  14.52 ,   7.27 ,   7.26 ,  31.72 ],\n",
       "       [ 18.   ,  70.367,  20.52 ,   8.55 ,  10.2  ,  34.29 ],\n",
       "       [ 17.   ,  70.367,  20.52 ,   8.55 ,  10.2  ,  34.29 ],\n",
       "       [ 11.   ,  86.   ,  21.24 ,   9.63 ,  10.62 ,  40.49 ],\n",
       "       [  8.   , 110.   ,  29.74 ,   9.51 ,  14.87 ,  36.99 ],\n",
       "       [  9.   ,  88.5  ,  21.24 ,   9.63 ,  10.62 ,  41.67 ],\n",
       "       [ 15.   ,  70.367,  20.52 ,   8.55 ,  10.2  ,  34.29 ],\n",
       "       [ 12.   ,  88.5  ,  21.24 ,   9.63 ,  11.62 ,  41.67 ],\n",
       "       [ 20.   ,  70.367,  20.52 ,   8.55 ,  10.2  ,  34.29 ],\n",
       "       [ 12.   ,  88.5  ,  21.24 ,   9.63 ,  10.56 ,  41.67 ],\n",
       "       [ 14.   , 101.509,  27.58 ,   8.93 ,  13.21 ,  36.81 ],\n",
       "       [  9.   , 110.   ,  29.74 ,   9.52 ,  14.87 ,  36.99 ],\n",
       "       [ 13.   , 101.509,  27.58 ,   8.93 ,  13.79 ,  36.81 ],\n",
       "       [ 18.   ,  70.606,  17.7  ,   8.15 ,   8.75 ,  39.89 ],\n",
       "       [ 11.   ,  91.   ,  20.32 ,   9.65 ,   9.75 ,  44.78 ],\n",
       "       [ 17.   ,  77.713,  18.9  ,   8.66 ,   9.35 ,  41.12 ],\n",
       "       [ 12.   ,  91.   ,  20.32 ,   9.65 ,   9.75 ,  44.78 ],\n",
       "       [ 16.   ,  77.713,  18.82 ,   8.66 ,   9.35 ,  41.29 ],\n",
       "       [ 13.   ,  91.   ,  20.32 ,   9.65 ,   9.75 ,  44.78 ],\n",
       "       [  5.   , 122.   ,  28.5  ,  10.33 ,   6.87 ,  34.57 ],\n",
       "       [ 12.   ,  91.   ,  20.32 ,   9.65 ,   9.75 ,  44.78 ],\n",
       "       [ 12.   ,   2.329,   0.94 ,   2.96 ,   0.45 ,  24.78 ],\n",
       "       [ 21.   ,  47.225,  13.66 ,   6.82 ,   6.87 ,  34.57 ],\n",
       "       [ 21.   ,  28.43 ,   8.08 ,   6.16 ,   4.1  ,  35.19 ],\n",
       "       [ 13.   ,  85.619,  21.14 ,   9.57 ,  10.56 ,  40.5  ],\n",
       "       [ 22.   ,  52.926,  13.02 ,   7.18 ,   6.54 ,  40.65 ],\n",
       "       [ 27.   ,  53.872,  14.94 ,   7.98 ,   7.67 ,  36.06 ],\n",
       "       [ 10.   , 105.   ,  27.2  ,   8.9  ,  13.56 ,  38.6  ],\n",
       "       [  9.   , 105.   ,  27.2  ,   8.9  ,  13.56 ,  38.6  ],\n",
       "       [ 23.   ,  25.   ,   7.76 ,   6.22 ,   3.86 ,  32.22 ],\n",
       "       [ 10.   ,  86.   ,  21.14 ,   9.6  ,  10.56 ,  40.68 ],\n",
       "       [ 20.   ,  53.049,  13.44 ,   7.22 ,   6.78 ,  39.47 ],\n",
       "       [  6.   , 112.   ,  38.   ,   9.51 ,  15.   ,  29.47 ],\n",
       "       [ 17.   ,  75.166,  19.28 ,   8.28 ,   9.64 ,  38.99 ],\n",
       "       [ 10.   ,  68.   ,  10.8  ,   7.9  ,   5.5  ,  62.96 ],\n",
       "       [ 18.   ,  51.004,   9.4  ,   7.81 ,   4.8  ,  54.26 ],\n",
       "       [ 44.   ,  70.327,  17.91 ,   9.63 ,   9.5  ,  39.27 ],\n",
       "       [ 10.   , 151.4  ,  26.2  ,  11.32 ,  11.34 ,  57.79 ],\n",
       "       [  6.   ,  90.   ,  20.   ,   9.64 ,  10.29 ,  45.   ],\n",
       "       [ 15.   ,  83.338,  17.5  ,   9.64 ,   8.75 ,  47.62 ],\n",
       "       [ 14.   ,  83.   ,  17.5  ,   9.64 ,   8.75 ,  47.43 ],\n",
       "       [ 13.   ,  61.   ,  13.8  ,   7.8  ,   6.88 ,  44.2  ],\n",
       "       [  5.   ,  86.   ,  21.04 ,   9.36 ,  10.22 ,  40.87 ],\n",
       "       [ 20.   ,  55.451,  12.64 ,   7.19 ,   6.32 ,  43.87 ],\n",
       "       [ 29.   ,  33.92 ,  12.14 ,   7.04 ,   6.07 ,  27.94 ],\n",
       "       [ 10.   ,  81.769,  18.48 ,   9.59 ,   9.24 ,  44.25 ],\n",
       "       [ 25.   ,  38.   ,   7.49 ,   6.74 ,   3.96 ,  50.73 ],\n",
       "       [ 16.   ,  59.652,  13.2  ,   7.77 ,   6.6  ,  45.19 ],\n",
       "       [ 19.   ,  55.451,  12.66 ,   7.19 ,   6.33 ,  43.8  ],\n",
       "       [ 20.   ,  55.451,  12.66 ,   7.19 ,   6.33 ,  43.8  ],\n",
       "       [ 17.   ,  55.451,  12.66 ,   7.19 ,   6.33 ,  43.8  ],\n",
       "       [ 14.   ,  63.   ,  14.4  ,   7.77 ,   7.2  ,  43.75 ],\n",
       "       [ 27.   ,  53.872,  14.94 ,   7.98 ,   7.47 ,  36.06 ],\n",
       "       [ 13.   ,  63.   ,  14.4  ,   7.77 ,   7.2  ,  43.75 ],\n",
       "       [ 11.   ,  85.   ,  18.48 ,   9.51 ,   9.24 ,  46.   ],\n",
       "       [ 12.   ,  58.6  ,  15.66 ,   8.24 ,   7.83 ,  37.42 ],\n",
       "       [  5.   , 133.5  ,  39.59 ,  10.93 ,  16.37 ,  33.72 ],\n",
       "       [ 10.   ,  58.825,  15.6  ,   8.23 ,   7.65 ,  37.71 ],\n",
       "       [ 31.   ,  35.143,  12.5  ,   6.69 ,   5.32 ,  28.11 ],\n",
       "       [  7.   ,  89.6  ,  25.5  ,   9.61 ,  12.75 ,  35.14 ],\n",
       "       [  9.   ,  59.058,  17.   ,   7.63 ,   8.5  ,  34.74 ],\n",
       "       [ 36.   ,  16.852,   9.52 ,   5.41 ,   3.83 ,  17.7  ],\n",
       "       [ 11.   ,  58.6  ,  15.66 ,   8.23 ,   7.83 ,  37.42 ],\n",
       "       [ 25.   ,  34.25 ,  10.52 ,   6.15 ,   5.26 ,  32.56 ],\n",
       "       [ 11.   ,  90.   ,  22.4  ,   9.65 ,  11.2  ,  40.18 ],\n",
       "       [ 21.   ,  50.76 ,  17.48 ,   7.54 ,   8.74 ,  29.04 ],\n",
       "       [  6.   ,  93.   ,  23.94 ,   9.65 ,  11.97 ,  38.85 ],\n",
       "       [  8.   ,  91.   ,  22.44 ,   9.65 ,  11.22 ,  40.55 ],\n",
       "       [ 21.   ,  38.   ,  10.56 ,   5.67 ,   5.28 ,  35.98 ],\n",
       "       [ 14.   ,  77.104,  20.02 ,   8.53 ,  10.01 ,  38.51 ],\n",
       "       [  9.   ,  81.   ,  21.44 ,   9.21 ,  10.72 ,  37.78 ],\n",
       "       [ 25.   ,  42.   ,  15.04 ,   7.08 ,   7.52 ,  27.93 ],\n",
       "       [ 15.   ,  75.338,  19.56 ,   8.79 ,   9.83 ,  38.52 ],\n",
       "       [ 40.   ,  28.   ,  11.5  ,   6.74 ,   4.   ,  24.35 ],\n",
       "       [ 12.   ,  77.104,  20.02 ,   8.53 ,  10.01 ,  38.51 ],\n",
       "       [ 20.   ,  50.76 ,  17.48 ,   7.54 ,   8.74 ,  29.04 ],\n",
       "       [ 15.   ,  30.277,   6.84 ,   5.94 ,   3.42 ,  44.26 ],\n",
       "       [ 13.   ,  30.277,   6.84 ,   5.94 ,   3.42 ,  44.26 ],\n",
       "       [ 15.   ,  30.277,   6.84 ,   5.94 ,   3.42 ,  44.26 ],\n",
       "       [ 48.   ,  22.08 ,   8.26 ,   5.78 ,   4.25 ,  26.73 ],\n",
       "       [  9.   ,  85.   ,  19.68 ,   9.35 ,   9.84 ,  43.19 ],\n",
       "       [ 29.   ,  45.   ,  11.78 ,   7.54 ,   5.3  ,  38.2  ],\n",
       "       [ 13.   ,  76.   ,  18.74 ,   8.86 ,   9.39 ,  40.55 ],\n",
       "       [ 10.   ,  77.   ,  20.16 ,   8.56 ,   9.75 ,  38.19 ],\n",
       "       [ 18.   ,  69.153,  18.82 ,   8.53 ,   9.14 ,  36.74 ],\n",
       "       [  5.   , 115.   ,  35.74 ,   9.   ,  15.32 ,  32.18 ],\n",
       "       [  9.   , 116.   ,  26.   ,   9.51 ,  13.   ,  44.62 ],\n",
       "       [ 11.   ,  91.627,  19.74 ,   9.64 ,   9.87 ,  46.42 ],\n",
       "       [  7.   , 116.   ,  31.   ,   9.51 ,  15.57 ,  37.42 ],\n",
       "       [ 16.   ,  77.499,  19.5  ,   8.56 ,  10.5  ,  39.74 ],\n",
       "       [  9.   , 113.   ,  26.74 ,   9.51 ,  13.37 ,  42.26 ],\n",
       "       [  6.   , 113.   ,  37.82 ,   9.51 ,  15.57 ,  29.88 ],\n",
       "       [ 12.   , 108.865,  27.58 ,   9.51 ,  13.   ,  39.47 ],\n",
       "       [ 15.   , 108.806,  26.   ,   9.51 ,  13.   ,  41.85 ],\n",
       "       [ 10.   ,  91.627,  19.74 ,   9.64 ,   9.87 ,  46.42 ],\n",
       "       [ 14.   ,  30.277,   6.86 ,   5.93 ,   3.44 ,  44.14 ],\n",
       "       [ 22.   ,  69.845,  15.9  ,   8.03 ,   7.95 ,  43.93 ],\n",
       "       [ 29.   ,  44.348,  12.   ,   7.54 ,   6.   ,  36.96 ],\n",
       "       [  9.   , 113.   ,  26.74 ,   9.51 ,  13.37 ,  42.26 ],\n",
       "       [  8.   ,  77.499,  19.5  ,   8.56 ,   9.75 ,  39.74 ],\n",
       "       [ 11.   , 108.977,  26.02 ,   9.51 ,  13.01 ,  41.88 ],\n",
       "       [ 18.   ,  77.499,  19.5  ,   8.56 ,   9.75 ,  39.74 ],\n",
       "       [ 14.   ,  30.277,   6.88 ,   5.93 ,   3.44 ,  44.01 ],\n",
       "       [ 27.   ,  12.5  ,   3.94 ,   4.36 ,   0.88 ,  31.73 ],\n",
       "       [ 12.   ,  50.   ,   7.   ,   7.09 ,   3.54 ,  71.43 ],\n",
       "       [ 14.   ,  33.   ,   4.9  ,   5.6  ,   2.45 ,  67.35 ],\n",
       "       [ 16.   ,  19.2  ,   3.2  ,   5.13 ,   1.6  ,  60.   ],\n",
       "       [ 10.   ,  46.   ,   7.   ,   6.7  ,   1.82 ,  65.71 ],\n",
       "       [ 12.   , 138.   ,  31.14 ,  10.2  ,  15.57 ,  44.32 ],\n",
       "       [ 11.   ,  90.09 ,  25.01 ,   9.62 ,  10.5  ,  36.02 ],\n",
       "       [ 23.   ,  48.563,  20.2  ,   6.92 ,   8.   ,  24.04 ],\n",
       "       [ 16.   ,  74.137,  19.5  ,   9.16 ,   9.75 ,  38.02 ],\n",
       "       [ 13.   , 138.   ,  31.14 ,  10.2  ,  15.57 ,  44.32 ],\n",
       "       [  7.   , 158.   ,  43.7  ,  11.12 ,  18.   ,  36.16 ],\n",
       "       [ 17.   ,  74.137,  19.5  ,   9.16 ,   9.75 ,  38.02 ],\n",
       "       [  5.   , 160.   ,  36.34 ,  11.12 ,  18.17 ,  44.03 ],\n",
       "       [  9.   ,  90.09 ,  25.01 ,   9.62 ,  10.94 ,  36.02 ],\n",
       "       [ 18.   ,  70.   ,  18.   ,   8.67 ,   9.   ,  38.89 ],\n",
       "       [  6.   , 158.   ,  43.7  ,  11.25 ,  18.   ,  36.16 ],\n",
       "       [ 21.   ,  73.941,  27.44 ,   8.8  ,  11.75 ,  26.95 ],\n",
       "       [ 10.   , 138.   ,  31.14 ,  10.2  ,  15.57 ,  44.32 ],\n",
       "       [ 22.   ,  73.941,  27.44 ,   8.8  ,  11.77 ,  30.94 ],\n",
       "       [ 11.   , 138.   ,  31.14 ,  10.2  ,  15.57 ,  44.32 ],\n",
       "       [  4.   , 220.   ,  54.   ,  11.82 ,  27.   ,  40.74 ],\n",
       "       [ 12.   ,  90.09 ,  25.01 ,   9.62 ,  10.5  ,  36.02 ],\n",
       "       [ 16.   ,  78.491,  24.35 ,   9.15 ,  10.   ,  32.23 ],\n",
       "       [ 10.   ,  90.09 ,  25.01 ,   9.62 ,  10.5  ,  36.02 ],\n",
       "       [ 25.   ,  73.192,  28.52 ,   8.8  ,  11.38 ,  25.66 ],\n",
       "       [ 17.   ,  70.   ,  20.76 ,   8.67 ,   9.02 ,  33.72 ],\n",
       "       [ 15.   ,  78.491,  24.35 ,   9.15 ,  10.   ,  32.23 ],\n",
       "       [ 14.   , 138.   ,  31.14 ,  10.2  ,  15.57 ,  44.32 ],\n",
       "       [ 21.   ,  10.   ,   2.08 ,   4.4  ,   1.04 ,  48.08 ],\n",
       "       [ 27.   ,  10.   ,   2.08 ,   4.4  ,   1.04 ,  48.08 ],\n",
       "       [ 24.   ,  10.   ,   2.08 ,   4.4  ,   1.04 ,  48.08 ],\n",
       "       [ 19.   ,  16.8  ,   2.96 ,   5.14 ,   1.48 ,  56.76 ],\n",
       "       [ 13.   ,  25.   ,   3.82 ,   5.97 ,   1.94 ,  65.45 ],\n",
       "       [ 12.   ,  25.   ,   3.88 ,   5.97 ,   1.94 ,  64.43 ],\n",
       "       [ 19.   ,  16.8  ,   2.96 ,   5.14 ,   1.48 ,  56.76 ],\n",
       "       [ 22.   ,   3.341,   0.66 ,   2.8  ,   0.33 ,  50.62 ],\n",
       "       [ 21.   ,  19.093,   8.   ,   5.37 ,   4.   ,  23.87 ],\n",
       "       [ 12.   ,  42.   ,  14.8  ,   7.13 ,   7.4  ,  28.38 ],\n",
       "       [ 24.   ,  40.053,  12.87 ,   5.79 ,   7.76 ,  31.12 ],\n",
       "       [ 22.   ,   3.341,   0.66 ,   2.79 ,   0.33 ,  50.62 ],\n",
       "       [ 14.   ,  76.8  ,  19.6  ,   8.79 ,   9.67 ,  39.18 ],\n",
       "       [ 25.   ,   5.35 ,   1.58 ,   4.4  ,   0.74 ,  33.86 ],\n",
       "       [ 27.   ,   5.35 ,   1.67 ,   4.4  ,   0.74 ,  32.04 ],\n",
       "       [ 23.   ,  14.745,   3.08 ,   6.17 ,   1.56 ,  47.87 ]])"
      ]
     },
     "execution_count": 27,
     "metadata": {},
     "output_type": "execute_result"
    }
   ],
   "source": [
    "X"
   ]
  },
  {
   "cell_type": "markdown",
   "metadata": {},
   "source": [
    "Reason for dropping Ship_name and Cruise_line columns is because our target data is a measure of size/weight & ship name or the ship's journey path does not directly affect the target data."
   ]
  },
  {
   "cell_type": "code",
   "execution_count": 31,
   "metadata": {},
   "outputs": [],
   "source": [
    "from sklearn.model_selection import train_test_split\n",
    "X_train, X_test, y_train, y_test = train_test_split(X, y, test_size=0.4)"
   ]
  },
  {
   "cell_type": "code",
   "execution_count": 36,
   "metadata": {},
   "outputs": [],
   "source": [
    "from sklearn.preprocessing import StandardScaler\n",
    "X_scaler = StandardScaler()\n",
    "y_scaler = StandardScaler()\n",
    "X_train = X_scaler.fit_transform(X_train)\n",
    "X_test = X_scaler.transform(X_test)\n",
    "y_train = y_scaler.fit_transform(y_train.reshape(-1, 1))\n",
    "y_test = y_scaler.transform(y_test.reshape(-1, 1))\n",
    "y_train, y_test = y_train.reshape(-1), y_test.reshape(-1)"
   ]
  },
  {
   "cell_type": "code",
   "execution_count": 47,
   "metadata": {},
   "outputs": [],
   "source": [
    "# importing machine learning models\n",
    "from sklearn.linear_model import LinearRegression, Lasso, Ridge, ElasticNet\n",
    "from sklearn.ensemble.forest import RandomForestRegressor\n",
    "from sklearn.svm import SVR\n",
    "from sklearn.ensemble import GradientBoostingRegressor\n",
    "from sklearn.neighbors import KNeighborsRegressor"
   ]
  },
  {
   "cell_type": "code",
   "execution_count": 44,
   "metadata": {},
   "outputs": [],
   "source": [
    "from sklearn.metrics import mean_squared_error"
   ]
  },
  {
   "cell_type": "code",
   "execution_count": 64,
   "metadata": {},
   "outputs": [],
   "source": [
    "def linear_regression_model(Model):\n",
    "    linear_regression = Model()\n",
    "    linear_regression.fit(X_train, y_train)\n",
    "    predicted = linear_regression.predict(X_test)\n",
    "    # mean squared error to validate test prediction\n",
    "    train_rmse = np.sqrt(mean_squared_error(y_train, linear_regression.predict(X_train)))\n",
    "    test_rmse = np.sqrt(mean_squared_error(y_test, predicted))\n",
    "    print(train_rmse, test_rmse)"
   ]
  },
  {
   "cell_type": "code",
   "execution_count": 65,
   "metadata": {},
   "outputs": [
    {
     "name": "stdout",
     "output_type": "stream",
     "text": [
      "0.33071448801231734 0.18548272048641154\n"
     ]
    }
   ],
   "source": [
    "# Linear Regression Model\n",
    "# Linear Regression without regularizer\n",
    "linear_regression_model(LinearRegression)"
   ]
  },
  {
   "cell_type": "code",
   "execution_count": 66,
   "metadata": {},
   "outputs": [
    {
     "name": "stdout",
     "output_type": "stream",
     "text": [
      "0.9999999999999999 1.058172036323068\n"
     ]
    }
   ],
   "source": [
    "# Linear Regression with L1 regularizer\n",
    "linear_regression_model(Lasso)"
   ]
  },
  {
   "cell_type": "code",
   "execution_count": 67,
   "metadata": {},
   "outputs": [
    {
     "name": "stdout",
     "output_type": "stream",
     "text": [
      "0.33422839207103117 0.18216388192098165\n"
     ]
    }
   ],
   "source": [
    "# Linear Regression with L2 regularizer\n",
    "linear_regression_model(Ridge)"
   ]
  },
  {
   "cell_type": "code",
   "execution_count": 68,
   "metadata": {},
   "outputs": [
    {
     "name": "stdout",
     "output_type": "stream",
     "text": [
      "0.6769174557521043 0.6783528685471576\n"
     ]
    }
   ],
   "source": [
    "# Linear Regression with L1 & L2 regularizer\n",
    "linear_regression_model(ElasticNet)"
   ]
  },
  {
   "cell_type": "code",
   "execution_count": 76,
   "metadata": {},
   "outputs": [
    {
     "name": "stdout",
     "output_type": "stream",
     "text": [
      "0.14450669067544625 0.3461098704559978\n"
     ]
    }
   ],
   "source": [
    "# Random Forest Regression\n",
    "random_forest = RandomForestRegressor()\n",
    "random_forest.fit(X_train, y_train)\n",
    "predicted = random_forest.predict(X_test)\n",
    "train_rmse = np.sqrt(mean_squared_error(y_train, random_forest.predict(X_train)))\n",
    "test_rmse = np.sqrt(mean_squared_error(y_test, predicted))\n",
    "print(train_rmse, test_rmse)"
   ]
  },
  {
   "cell_type": "code",
   "execution_count": 77,
   "metadata": {},
   "outputs": [
    {
     "name": "stdout",
     "output_type": "stream",
     "text": [
      "0.3173831935334568 0.5331895835363878\n"
     ]
    }
   ],
   "source": [
    "# Support Vector Regression\n",
    "svr = SVR()\n",
    "svr.fit(X_train, y_train)\n",
    "predicted = svr.predict(X_test)\n",
    "train_rmse = np.sqrt(mean_squared_error(y_train, svr.predict(X_train)))\n",
    "test_rmse = np.sqrt(mean_squared_error(y_test, predicted))\n",
    "print(train_rmse, test_rmse)"
   ]
  },
  {
   "cell_type": "code",
   "execution_count": 78,
   "metadata": {},
   "outputs": [
    {
     "name": "stdout",
     "output_type": "stream",
     "text": [
      "0.053041820263225854 0.3463119057505239\n"
     ]
    }
   ],
   "source": [
    "# Gradient Bosting Regression\n",
    "gboost = GradientBoostingRegressor()\n",
    "gboost.fit(X_train, y_train)\n",
    "predicted = gboost.predict(X_test)\n",
    "train_rmse = np.sqrt(mean_squared_error(y_train, gboost.predict(X_train)))\n",
    "test_rmse = np.sqrt(mean_squared_error(y_test, predicted))\n",
    "print(train_rmse, test_rmse)"
   ]
  },
  {
   "cell_type": "markdown",
   "metadata": {},
   "source": [
    "After Considering different models\n",
    "I am going with Linear Regression without Regularizer because the test root mean squared error is lesser that the train root mean squared and is less compared to the rest"
   ]
  },
  {
   "cell_type": "code",
   "execution_count": 95,
   "metadata": {},
   "outputs": [
    {
     "name": "stdout",
     "output_type": "stream",
     "text": [
      "          0         1         2         3         4         5\n",
      "0  1.000000 -0.567475 -0.466363 -0.468890 -0.451450 -0.274497\n",
      "1 -0.567475  1.000000  0.934056  0.933607  0.933361 -0.154261\n",
      "2 -0.466363  0.934056  1.000000  0.882173  0.967621 -0.414404\n",
      "3 -0.468890  0.933607  0.882173  1.000000  0.891176 -0.221232\n",
      "4 -0.451450  0.933361  0.967621  0.891176  1.000000 -0.374341\n",
      "5 -0.274497 -0.154261 -0.414404 -0.221232 -0.374341  1.000000\n"
     ]
    },
    {
     "data": {
      "text/plain": [
       "<AxesSubplot:>"
      ]
     },
     "execution_count": 95,
     "metadata": {},
     "output_type": "execute_result"
    },
    {
     "data": {
      "image/png": "[encoded data removed]",
      "text/plain": [
       "<Figure size 792x648 with 2 Axes>"
      ]
     },
     "metadata": {
      "needs_background": "light"
     },
     "output_type": "display_data"
    }
   ],
   "source": [
    "import seaborn as sns\n",
    "x_train_df = pd.DataFrame(X_train)\n",
    "corr = x_train_df.corr()\n",
    "print(corr)\n",
    "mask = np.triu(np.ones_like(corr, dtype=bool))\n",
    "f, ax = plt.subplots(figsize=(11, 9))\n",
    "cmap = sns.diverging_palette(230, 20, as_cmap=True)\n",
    "sns.heatmap(corr, xticklabels=corr.columns, yticklabels=corr.columns,\n",
    " cmap='RdBu_r', annot=True, linewidth=0.5)"
   ]
  },
  {
   "cell_type": "code",
   "execution_count": 97,
   "metadata": {},
   "outputs": [
    {
     "name": "stdout",
     "output_type": "stream",
     "text": [
      "          0         1         2         3         4         5\n",
      "0  1.000000 -0.675546 -0.600344 -0.637767 -0.607355 -0.288518\n",
      "1 -0.675546  1.000000  0.963358  0.904675  0.967818  0.124742\n",
      "2 -0.600344  0.963358  1.000000  0.885135  0.993973 -0.108059\n",
      "3 -0.637767  0.904675  0.885135  1.000000  0.884599  0.090076\n",
      "4 -0.607355  0.967818  0.993973  0.884599  1.000000 -0.078491\n",
      "5 -0.288518  0.124742 -0.108059  0.090076 -0.078491  1.000000\n"
     ]
    },
    {
     "data": {
      "text/plain": [
       "<AxesSubplot:>"
      ]
     },
     "execution_count": 97,
     "metadata": {},
     "output_type": "execute_result"
    },
    {
     "data": {
      "image/png": "[encoded data removed]",
      "text/plain": [
       "<Figure size 792x648 with 2 Axes>"
      ]
     },
     "metadata": {
      "needs_background": "light"
     },
     "output_type": "display_data"
    }
   ],
   "source": [
    "x_test_df = pd.DataFrame(X_test)\n",
    "corr = x_test_df.corr()\n",
    "print(corr)\n",
    "mask = np.triu(np.ones_like(corr, dtype=bool))\n",
    "f, ax = plt.subplots(figsize=(11, 9))\n",
    "cmap = sns.diverging_palette(230, 20, as_cmap=True)\n",
    "sns.heatmap(corr, xticklabels=corr.columns, yticklabels=corr.columns,\n",
    " cmap='RdBu_r', annot=True, linewidth=0.5)"
   ]
  },
  {
   "cell_type": "markdown",
   "metadata": {},
   "source": [
    "For the model I selected (Linear Regression) the hyper parameters are number of iterations, learning rate\n",
    "\n",
    "I would use GridSearch method to select the best hyperparemeters"
   ]
  },
  {
   "cell_type": "code",
   "execution_count": null,
   "metadata": {},
   "outputs": [],
   "source": []
  }
 ],
 "metadata": {
  "kernelspec": {
   "display_name": "Python 3",
   "language": "python",
   "name": "python3"
  },
  "language_info": {
   "codemirror_mode": {
    "name": "ipython",
    "version": 3
   },
   "file_extension": ".py",
   "mimetype": "text/x-python",
   "name": "python",
   "nbconvert_exporter": "python",
   "pygments_lexer": "ipython3",
   "version": "3.8.5"
  }
 },
 "nbformat": 4,
 "nbformat_minor": 4
}
